{
 "cells": [
  {
   "cell_type": "code",
   "execution_count": null,
   "metadata": {
    "collapsed": false
   },
   "outputs": [],
   "source": [
    "parent = dict()\n",
    "rank = dict()\n",
    "\n",
    "def make_set(x):\n",
    "    #implement code here\n",
    "\n",
    "def find(x):\n",
    "    #implement code here\n",
    "\n",
    "def union(x, y):\n",
    "    #implement code here\n",
    "\n",
    "def kruskal(graph):\n",
    "    \n",
    "    #implement code here\n",
    "            \n",
    "    return F\n",
    "\n",
    "# Test Undirected Graph \n",
    "graph = {\n",
    "'vertices': ['A', 'B', 'C', 'D', 'E', 'F', 'G'],\n",
    "'edges': set([\n",
    "(7, 'A', 'B'),\n",
    "(8, 'B', 'C'),\n",
    "(9, 'B', 'D'),\n",
    "(5, 'C', 'E'),\n",
    "(5, 'D', 'A'),\n",
    "(7, 'E', 'B'),\n",
    "(15, 'E', 'D'),\n",
    "(8, 'E', 'F'),\n",
    "(6, 'F', 'D'),\n",
    "(9, 'G', 'E'),\n",
    "(11, 'G', 'F'),\n",
    "])\n",
    "}\n",
    "\n",
    "#Display Minimum Cost Spanning Tree\n",
    "kruskal(graph)"
   ]
  },
  {
   "cell_type": "code",
   "execution_count": null,
   "metadata": {
    "collapsed": true
   },
   "outputs": [],
   "source": []
  }
 ],
 "metadata": {
  "kernelspec": {
   "display_name": "Python [default]",
   "language": "python",
   "name": "python2"
  },
  "language_info": {
   "codemirror_mode": {
    "name": "ipython",
    "version": 2
   },
   "file_extension": ".py",
   "mimetype": "text/x-python",
   "name": "python",
   "nbconvert_exporter": "python",
   "pygments_lexer": "ipython2",
   "version": "2.7.13"
  }
 },
 "nbformat": 4,
 "nbformat_minor": 2
}
