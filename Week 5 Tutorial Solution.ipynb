{
 "cells": [
  {
   "cell_type": "markdown",
   "metadata": {},
   "source": [
    "### Coin Change Problem"
   ]
  },
  {
   "cell_type": "markdown",
   "metadata": {},
   "source": [
    "Determine the number of ways in which a given amount of money can be paid out using different combinations of denominations (coins):\n",
    "\n",
    "**1\\. Implement a dynamic programming algorithm to solve the “number of ways to change”\n",
    "problem.**"
   ]
  },
  {
   "cell_type": "code",
   "execution_count": null,
   "metadata": {
    "collapsed": false
   },
   "outputs": [],
   "source": [
    "# Dynamic Programming Python implementation of Coin\n",
    "# Change problem\n",
    "def count(D, n):\n",
    "    # table[i] will be storing the number of solutions for\n",
    "    # value i. We need n+1 rows as the table is constructed\n",
    "    # in bottom up manner using the base case (n = 0)\n",
    "    # Initialize all table values as 0\n",
    "    \n",
    "    table = [0 for k in range(n+1)]\n",
    " \n",
    "    # Base case (If given value is 0)\n",
    "    table[0] = 1\n",
    " \n",
    "    # Pick all coins one by one and update the table[] values\n",
    "    # after the index greater than or equal to the value of the\n",
    "    # picked coin\n",
    "    for d in D:\n",
    "        for j in range(d,n+1):\n",
    "            table[j] += table[j-d]\n",
    " \n",
    "    return table[n]\n",
    " \n",
    "# Driver program to test above function\n",
    "deno = [1,2,5]\n",
    "n = 12\n",
    "x = count(deno, n)\n",
    "print (x)\n"
   ]
  },
  {
   "cell_type": "markdown",
   "metadata": {},
   "source": [
    "**2\\. Implement the recursive solution**"
   ]
  },
  {
   "cell_type": "code",
   "execution_count": null,
   "metadata": {
    "collapsed": false
   },
   "outputs": [],
   "source": [
    "def count(D, n):\n",
    "    if n == 0:\n",
    "        return 1\n",
    " \n",
    "    if n < 0:\n",
    "        return 0\n",
    "\n",
    "    if (len(D) == 0):\n",
    "        return 0\n",
    "    \n",
    "    return count(D[1:], n ) + count(D, n-D[0] )\n",
    "\n",
    " \n",
    "# Driver program to test above function\n",
    "deno = [1,2,5]\n",
    "n = 12\n",
    "x = count(deno,  n)\n",
    "print (x)\n"
   ]
  },
  {
   "cell_type": "markdown",
   "metadata": {},
   "source": [
    "**3\\. Implement the recursive solution, but do so with memoization.**"
   ]
  },
  {
   "cell_type": "code",
   "execution_count": null,
   "metadata": {
    "collapsed": false
   },
   "outputs": [],
   "source": [
    "memory = {}\n",
    " \n",
    "def count(D, n):\n",
    "    if n == 0:\n",
    "        return 1\n",
    " \n",
    "    if n < 0:\n",
    "        return 0\n",
    "\n",
    "    if (len(D) == 0):\n",
    "        return 0\n",
    " \n",
    " \n",
    "    key = (D, n)\n",
    "    if key not in memory:\n",
    "        memory[key] = count(D[1:], n ) + count(D, n-D[0] )\n",
    "    return memory[key]\n",
    "\n",
    "# Driver program to test above function\n",
    "deno = (1,2,5)\n",
    "n = 12\n",
    "x = count(deno, n)\n",
    "print (x)\n"
   ]
  },
  {
   "cell_type": "markdown",
   "metadata": {},
   "source": [
    "**4\\. Why is the dynamic programming solution superior to the direct implementation (and even to\n",
    "the one using memoization)?**\n",
    "1. \tMemoization is the top-down technique(start solving the given problem by breaking it down) and dynamic programming is a bottom-up technique(start solving from the trivial sub-problem, up towards the given problem)\n",
    "2.     DP finds the solution by starting from the base case(s) and works its way upwards. DP solves all the sub-problems, because it does it bottom-up\n",
    "Unlike Memoization, which solves only the needed sub-problems\n",
    "3.     DP has the potential to transform exponential-time brute-force solutions into polynomial-time algorithms.\n",
    "4. \tDP may be much more efficient because its iterative\n",
    "On the contrary, Memoization must pay for the (often significant) overhead due to recursion.\n",
    " \n",
    "If all subproblems must be solved at least once, a bottom-up dynamic-programming algorithm usually outperforms a top-down memoized algorithm by a constant factor.\n"
   ]
  },
  {
   "cell_type": "markdown",
   "metadata": {},
   "source": [
    "Time Complexity of Recursive implementation:\n",
    "\n",
    "    T(N,K) = T(N,K-1) + T(N-1,K) for K denominations that add up to amount N.\n",
    "    \n",
    "Have a look and the recursive implementation in Section (2).\n",
    "Isn't it in the format?\n",
    "\n",
    "    T(D,n) = T(D-1, n) + T(D, n - 1)\n",
    "    \n",
    "**Or put simply:**\n",
    "\n",
    "There are two recursive calls to *count(D, n)* on arguments of one smaller size. Leads to recurrence relation T(n) = O(1) + 2T (n - 1), with solution O(2<sup>n</sup>)"
   ]
  },
  {
   "cell_type": "markdown",
   "metadata": {},
   "source": [
    "### Longest Common Subsequence\n",
    "**1\\. Implement the dynamic programming algorithm for the LCS in Python.**"
   ]
  },
  {
   "cell_type": "code",
   "execution_count": null,
   "metadata": {
    "collapsed": false
   },
   "outputs": [],
   "source": [
    "def lcs(X , Y):\n",
    "    # find the length of the strings\n",
    "    m = len(X)\n",
    "    n = len(Y)\n",
    " \n",
    "    # declaring the array for storing the  values\n",
    "    L = [[None]*(n+1) for i in range(m+1)]\n",
    " \n",
    "    for i in range(0,m+1):\n",
    "        for j in range(0,n+1):\n",
    "            if i == 0 or j == 0 :\n",
    "                L[i][j] = 0\n",
    "            elif X[i-1] == Y[j-1]:\n",
    "                L[i][j] = L[i-1][j-1]+1\n",
    "            else:\n",
    "                L[i][j] = max(L[i-1][j] , L[i][j-1])\n",
    " \n",
    "    return L[m][n]\n",
    "\n",
    "# Driver program to test above function\n",
    "x = lcs(\"abd\", \"abcd\")\n",
    "print(x)\n"
   ]
  },
  {
   "cell_type": "markdown",
   "metadata": {},
   "source": [
    "**2\\. Extend your Python implementation from above to return (or print out) the actual\n",
    "subsequence rather than just its length (back-tracing) **\n",
    "\n",
    "I am using a while loop to backtrace, you can use any other looping strucure."
   ]
  },
  {
   "cell_type": "code",
   "execution_count": null,
   "metadata": {
    "collapsed": false
   },
   "outputs": [],
   "source": [
    "def lcs(X , Y):\n",
    "    # find the length of the strings\n",
    "    m = len(X)\n",
    "    n = len(Y)\n",
    " \n",
    "    # declaring the array for storing the  values\n",
    "    L = [[None]*(n+1) for i in range(m+1)]\n",
    " \n",
    "    for i in range(0,m+1):\n",
    "        for j in range(0,n+1):\n",
    "            if i == 0 or j == 0 :\n",
    "                L[i][j] = 0\n",
    "            elif X[i-1] == Y[j-1]:\n",
    "                L[i][j] = L[i-1][j-1]+1\n",
    "            else:\n",
    "                L[i][j] = max(L[i-1][j] , L[i][j-1])\n",
    " \n",
    "    index = L[m][n]\n",
    "    \n",
    "    # Back tracing from here onwards\n",
    "    # Create a variable to store the lcs string\n",
    "    result = \"\"\n",
    "    # Start from the right-most-bottom-most corner and\n",
    "    # one by one store characters in lcs[]\n",
    "    i = m\n",
    "    j = n\n",
    "    while i > 0 and j > 0:\n",
    "        # If current character in X[] and Y are same, then\n",
    "        # current character is part of LCS\n",
    "        if X[i-1] == Y[j-1]:\n",
    "            result = X[i-1] + result\n",
    "            i-=1\n",
    "            j-=1\n",
    "            index-=1\n",
    " \n",
    "        # If not same, then find the larger of two and\n",
    "        # go in the direction of larger value\n",
    "        elif L[i-1][j] > L[i][j-1]:\n",
    "            i-=1\n",
    "        else:\n",
    "            j-=1          \n",
    "    return result\n",
    "\n",
    "x = lcs(\"acd\", \"abcd\")\n",
    "print(x)\n"
   ]
  },
  {
   "cell_type": "markdown",
   "metadata": {},
   "source": [
    "To state the recurrence relation in a simpler way:\n",
    "\n",
    "There will be two recursive calls to lcs on arguments of one smaller size.\n",
    "Leads to recurrence relation T(n) = O(n) + 2T (n - 1), with solution O(2<sup>n</sup>)"
   ]
  },
  {
   "cell_type": "code",
   "execution_count": null,
   "metadata": {
    "collapsed": true
   },
   "outputs": [],
   "source": []
  }
 ],
 "metadata": {
  "anaconda-cloud": {},
  "kernelspec": {
   "display_name": "Python [default]",
   "language": "python",
   "name": "python2"
  },
  "language_info": {
   "codemirror_mode": {
    "name": "ipython",
    "version": 2
   },
   "file_extension": ".py",
   "mimetype": "text/x-python",
   "name": "python",
   "nbconvert_exporter": "python",
   "pygments_lexer": "ipython2",
   "version": "2.7.13"
  }
 },
 "nbformat": 4,
 "nbformat_minor": 2
}
